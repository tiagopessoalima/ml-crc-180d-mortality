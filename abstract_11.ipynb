{
 "cells": [
  {
   "cell_type": "code",
   "execution_count": 1,
   "id": "84fed861-25d1-44eb-823b-52fb4fe55e64",
   "metadata": {},
   "outputs": [],
   "source": [
    "TUMOR = 'INTESTINAL'"
   ]
  },
  {
   "cell_type": "markdown",
   "id": "cac97b42-0c1e-47dc-9d06-9d58310e1060",
   "metadata": {},
   "source": [
    "# LIBS"
   ]
  },
  {
   "cell_type": "code",
   "execution_count": 2,
   "id": "59bee9ee-5c96-44db-853c-3639619aa7b5",
   "metadata": {},
   "outputs": [],
   "source": [
    "# Standard library\n",
    "import os\n",
    "import glob\n",
    "import warnings\n",
    "\n",
    "# Data handling and visualization\n",
    "import pandas as pd\n",
    "import seaborn as sns\n",
    "import matplotlib.pyplot as plt\n",
    "\n",
    "# Model loading\n",
    "import joblib\n",
    "\n",
    "# Scikit-learn: model evaluation\n",
    "from sklearn.model_selection import cross_val_predict\n",
    "from sklearn.metrics import (\n",
    "    classification_report,\n",
    "    confusion_matrix,\n",
    "    ConfusionMatrixDisplay,\n",
    "    roc_curve,\n",
    "    auc\n",
    ")\n",
    "\n",
    "# Suppress warnings\n",
    "warnings.filterwarnings('ignore')\n"
   ]
  },
  {
   "cell_type": "markdown",
   "id": "8496c946-085b-469a-8e71-1d06b3ffe072",
   "metadata": {},
   "source": [
    "# FILES"
   ]
  },
  {
   "cell_type": "code",
   "execution_count": 3,
   "id": "28779c46-2b0f-4496-b3c0-c0f46626e100",
   "metadata": {},
   "outputs": [],
   "source": [
    "df = pd.read_csv(f'../../datasets/{TUMOR}/dataset.csv') \n",
    "X = df.drop(['Survival Days', 'Death (180 Days)'],axis=1)\n",
    "y = df['Death (180 Days)']"
   ]
  },
  {
   "cell_type": "markdown",
   "id": "2d87b03d-7a30-4975-a1f2-2922530a0bf3",
   "metadata": {},
   "source": [
    "# Logistic Regression Model"
   ]
  },
  {
   "cell_type": "code",
   "execution_count": 4,
   "id": "24212a3b-4f56-448d-8c32-11ae5c941fd2",
   "metadata": {},
   "outputs": [
    {
     "name": "stdout",
     "output_type": "stream",
     "text": [
      "Pipeline(steps=[('normalization', MinMaxScaler()),\n",
      "                ('imputation', KNNImputer(n_neighbors=3, weights='distance')),\n",
      "                ('balancing',\n",
      "                 RandomUnderSampler(random_state=42,\n",
      "                                    sampling_strategy=0.2000000004128729)),\n",
      "                ('model',\n",
      "                 LogisticRegression(C=0.024024134747225607,\n",
      "                                    class_weight='balanced',\n",
      "                                    l1_ratio=0.4832773488031572, max_iter=3809,\n",
      "                                    multi_class='auto', random_state=42,\n",
      "                                    solver='saga'))])\n"
     ]
    }
   ],
   "source": [
    "# Direct path to the Logistic Regression model\n",
    "model_path = os.path.join('models', TUMOR, 'LR.joblib')\n",
    "\n",
    "# Load the model\n",
    "lr_model = joblib.load(model_path)\n",
    "\n",
    "# Display the loaded model\n",
    "print(lr_model)"
   ]
  },
  {
   "cell_type": "markdown",
   "id": "032637e8-d072-41bf-aeed-f3967d55ee5c",
   "metadata": {},
   "source": [
    "# Generate predictions using 5-fold cross-validation"
   ]
  },
  {
   "cell_type": "code",
   "execution_count": null,
   "id": "405e8ce7-4dbe-486e-b47d-73d87fecfb9e",
   "metadata": {},
   "outputs": [],
   "source": [
    "y_pred = cross_val_predict(lr_model, X, y.values.ravel(), cv=5)\n",
    "y_proba = cross_val_predict(lr_model, X, y.values.ravel(), cv=5, method='predict_proba')[:, 1]"
   ]
  },
  {
   "cell_type": "markdown",
   "id": "8bbc2965-cdf0-49c9-a21e-6b68749e2c41",
   "metadata": {},
   "source": [
    "# Classification report\n"
   ]
  },
  {
   "cell_type": "code",
   "execution_count": null,
   "id": "5a652f00-d6c5-4729-8d8d-f8a7905aec1e",
   "metadata": {},
   "outputs": [],
   "source": [
    "print(\"Classification Report:\")\n",
    "print(classification_report(y, y_pred))"
   ]
  },
  {
   "cell_type": "markdown",
   "id": "5d27a4cf-48fc-4228-97e1-f07b8c329fc1",
   "metadata": {},
   "source": [
    "# Confusion matrix\n"
   ]
  },
  {
   "cell_type": "code",
   "execution_count": null,
   "id": "831142f0-2507-4168-a338-8080b6db30ac",
   "metadata": {},
   "outputs": [],
   "source": [
    "cm = confusion_matrix(y, y_pred)\n",
    "disp = ConfusionMatrixDisplay(confusion_matrix=cm)\n",
    "disp.plot(cmap='Blues')\n",
    "plt.title('Confusion Matrix')\n",
    "plt.show()"
   ]
  },
  {
   "cell_type": "markdown",
   "id": "212d2ee7-b337-4980-8773-a5e34e7b7de5",
   "metadata": {},
   "source": [
    "# ROC curve"
   ]
  },
  {
   "cell_type": "code",
   "execution_count": null,
   "id": "c9181732-d175-4ab7-b51e-f52a199b1a1a",
   "metadata": {},
   "outputs": [],
   "source": [
    "fpr, tpr, thresholds = roc_curve(y, y_proba)\n",
    "roc_auc = auc(fpr, tpr)\n",
    "\n",
    "plt.figure()\n",
    "plt.plot(fpr, tpr, color='darkorange', lw=2, label=f'ROC curve (AUC = {roc_auc:.2f})')\n",
    "plt.plot([0, 1], [0, 1], color='navy', lw=2, linestyle='--')\n",
    "plt.xlabel('False Positive Rate')\n",
    "plt.ylabel('True Positive Rate')\n",
    "plt.title('Receiver Operating Characteristic (ROC)')\n",
    "plt.legend(loc=\"lower right\")\n",
    "plt.grid()\n",
    "plt.show()"
   ]
  },
  {
   "cell_type": "markdown",
   "id": "d012a438-0f42-47f4-ac1c-d29774f0db2b",
   "metadata": {},
   "source": [
    "# Feature Importance"
   ]
  },
  {
   "cell_type": "code",
   "execution_count": null,
   "id": "98e287ec-3e56-4038-8c92-5fc0c95d95cc",
   "metadata": {},
   "outputs": [],
   "source": [
    "# Get the feature coefficients\n",
    "coefficients = lr_model.named_steps['model'].coef_[0]\n",
    "\n",
    "# Create a DataFrame to display the importances\n",
    "importance_df = pd.DataFrame({\n",
    "    'Feature': X.columns,\n",
    "    'Coefficient': coefficients\n",
    "})\n",
    "\n",
    "# Calculate the absolute coefficients for sorting by importance\n",
    "importance_df['AbsoluteCoefficient'] = importance_df['Coefficient'].abs()\n",
    "\n",
    "# Sort the DataFrame by the absolute values of the coefficients and reset the index\n",
    "importance_df = importance_df.sort_values(by='AbsoluteCoefficient', ascending=False).reset_index(drop=True)\n",
    "\n",
    "# Plot a bar chart to visualize feature importance based on coefficients\n",
    "plt.figure(figsize=(6, 4))\n",
    "plt.bar(importance_df['Feature'], importance_df['Coefficient'], color='skyblue')\n",
    "plt.xticks(rotation=90, ha='right')\n",
    "plt.xlabel('Feature')\n",
    "plt.ylabel('Coefficient')\n",
    "plt.title('Feature Importance Based on Coefficients')\n",
    "plt.tight_layout()\n",
    "plt.show()"
   ]
  }
 ],
 "metadata": {
  "kernelspec": {
   "display_name": "Python 3 (ipykernel)",
   "language": "python",
   "name": "python3"
  },
  "language_info": {
   "codemirror_mode": {
    "name": "ipython",
    "version": 3
   },
   "file_extension": ".py",
   "mimetype": "text/x-python",
   "name": "python",
   "nbconvert_exporter": "python",
   "pygments_lexer": "ipython3",
   "version": "3.12.7"
  }
 },
 "nbformat": 4,
 "nbformat_minor": 5
}
